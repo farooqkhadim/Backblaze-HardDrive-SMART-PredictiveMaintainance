{
  "nbformat": 4,
  "nbformat_minor": 0,
  "metadata": {
    "colab": {
      "provenance": [],
      "authorship_tag": "ABX9TyNz45dIYVDkoXf8YyGdtQy6",
      "include_colab_link": true
    },
    "kernelspec": {
      "name": "python3",
      "display_name": "Python 3"
    },
    "language_info": {
      "name": "python"
    }
  },
  "cells": [
    {
      "cell_type": "markdown",
      "metadata": {
        "id": "view-in-github",
        "colab_type": "text"
      },
      "source": [
        "<a href=\"https://colab.research.google.com/github/farooqkhadim/Backblaze-HardDrive-SMART-PredictiveMaintainance/blob/main/Using_RNN_LSTM_1DConv_Blackblaze_Harddiskdata.ipynb\" target=\"_parent\"><img src=\"https://colab.research.google.com/assets/colab-badge.svg\" alt=\"Open In Colab\"/></a>"
      ]
    },
    {
      "cell_type": "markdown",
      "source": [
        "# **Preparing the environment**"
      ],
      "metadata": {
        "id": "0CAhb9NOk0_f"
      }
    },
    {
      "cell_type": "code",
      "execution_count": null,
      "metadata": {
        "id": "UC8mXYjAhjGw"
      },
      "outputs": [],
      "source": [
        "import warnings\n",
        "warnings.simplefilter(action='ignore', category=FutureWarning)\n",
        "\n",
        "import os\n",
        "import tensorflow as tf\n",
        "\n",
        "print(tf.__version__)\n",
        "\n",
        "# Suppress TF logs\n",
        "os.environ['TF_CPP_MIN_LOG_LEVEL'] = '3'\n",
        "\n",
        "# prevent keras/tf from allocating all gpu memory\n",
        "gpu=2 # set to number of GPU we want to leverage for training\n",
        "tf.config.set_soft_device_placement(True) # set soft device placement to enabled\n",
        "tf.debugging.set_log_device_placement(True) # turns logging for device placement decisions on\n",
        "for each_device in tf.config.experimental.list_physical_devices('GPU'):\n",
        "    tf.config.experimental.set_memory_growth(each_device, True)"
      ]
    },
    {
      "cell_type": "markdown",
      "source": [
        "# **Load Datasets for Data Preparation**"
      ],
      "metadata": {
        "id": "FUu88CpulKo7"
      }
    },
    {
      "cell_type": "markdown",
      "source": [],
      "metadata": {
        "id": "WdiRYEtUlKm_"
      }
    },
    {
      "cell_type": "code",
      "source": [
        "import pandas as pd\n",
        "\n",
        "data_dir = './data/'\n",
        "\n",
        "# Files from Lab 1\n",
        "train_pkl_file = 'Lab1-2017-Full-ST4000DM000.pkl'\n",
        "test_pkl_file = 'Lab1-2016-Q4-ST4000DM000.pkl'\n",
        "\n",
        "# Load our training and test set from previous step\n",
        "print(\"Reading in training and test SMART data stored in previous exercise...\")\n",
        "df_train = pd.read_pickle(data_dir+train_pkl_file)\n",
        "df_test = pd.read_pickle(data_dir+test_pkl_file)\n",
        "\n",
        "print(df_train.shape)\n",
        "print(df_test.shape)"
      ],
      "metadata": {
        "id": "d9U2yynRlvF9"
      },
      "execution_count": null,
      "outputs": []
    },
    {
      "cell_type": "code",
      "source": [
        "df_train.head()"
      ],
      "metadata": {
        "id": "qYzSncIml-3b"
      },
      "execution_count": null,
      "outputs": []
    }
  ]
}